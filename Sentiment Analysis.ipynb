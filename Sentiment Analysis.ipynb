{
 "cells": [
  {
   "cell_type": "code",
   "execution_count": 94,
   "id": "669a2125-632a-417b-8bee-29dfe7eb18b1",
   "metadata": {},
   "outputs": [],
   "source": [
    "from transformers import AutoTokenizer, AutoModelForSequenceClassification\n",
    "import torch\n",
    "import requests\n",
    "from bs4 import BeautifulSoup\n",
    "import re\n",
    "import numpy as np\n",
    "import pandas as pd"
   ]
  },
  {
   "cell_type": "code",
   "execution_count": 95,
   "id": "a85f61f0-004a-47e7-80bc-38d1935c871c",
   "metadata": {},
   "outputs": [],
   "source": [
    "tokenizer = AutoTokenizer.from_pretrained('nlptown/bert-base-multilingual-uncased-sentiment')\n",
    "model = AutoModelForSequenceClassification.from_pretrained('nlptown/bert-base-multilingual-uncased-sentiment')"
   ]
  },
  {
   "cell_type": "code",
   "execution_count": 96,
   "id": "bedb6700-8e7e-4d1a-8e8d-b98f88bd0e0b",
   "metadata": {},
   "outputs": [],
   "source": [
    "tokens = tokenizer.encode('kinda ok', return_tensors='pt')"
   ]
  },
  {
   "cell_type": "code",
   "execution_count": 97,
   "id": "ea00926a-0e2f-4fe6-8f8b-8959bc300bf2",
   "metadata": {},
   "outputs": [],
   "source": [
    "result = model(tokens)"
   ]
  },
  {
   "cell_type": "code",
   "execution_count": 98,
   "id": "7b82f831-2366-43f2-b922-6361963b7a63",
   "metadata": {},
   "outputs": [
    {
     "data": {
      "text/plain": [
       "SequenceClassifierOutput(loss=None, logits=tensor([[-1.1173, -0.3126,  1.0229,  0.5143, -0.2423]],\n",
       "       grad_fn=<AddmmBackward0>), hidden_states=None, attentions=None)"
      ]
     },
     "execution_count": 98,
     "metadata": {},
     "output_type": "execute_result"
    }
   ],
   "source": [
    "result"
   ]
  },
  {
   "cell_type": "code",
   "execution_count": 99,
   "id": "19f9ebed-b4ce-4637-be09-b3b5b72ebccf",
   "metadata": {},
   "outputs": [
    {
     "data": {
      "text/plain": [
       "tensor([[-1.1173, -0.3126,  1.0229,  0.5143, -0.2423]],\n",
       "       grad_fn=<AddmmBackward0>)"
      ]
     },
     "execution_count": 99,
     "metadata": {},
     "output_type": "execute_result"
    }
   ],
   "source": [
    "result.logits"
   ]
  },
  {
   "cell_type": "code",
   "execution_count": 100,
   "id": "9c9a3f45-e3ec-46ca-b16b-32a1e230cf00",
   "metadata": {},
   "outputs": [
    {
     "data": {
      "text/plain": [
       "3"
      ]
     },
     "execution_count": 100,
     "metadata": {},
     "output_type": "execute_result"
    }
   ],
   "source": [
    "int(torch.argmax(result.logits))+1"
   ]
  },
  {
   "cell_type": "code",
   "execution_count": 104,
   "id": "4f23404c-b6c1-431f-9c78-946840bc61fd",
   "metadata": {},
   "outputs": [],
   "source": [
    "# r = requests.get('https://www.yelp.com/biz/girl-and-the-goat-chicago?osq=Restaurants')\n",
    "r = requests.get('https://www.rottentomatoes.com/m/the_wolf_of_wall_street_2013/reviews?type=user')\n",
    "soup = BeautifulSoup(r.text, 'html.parser')\n",
    "# regex = re.compile('.*comment.*') #Find Comment Class to sprape the comment// class of the content\n",
    "regex = re.compile('.*audience-reviews__review js-review-text.*') \n",
    "results = soup.find_all('p', {'class':regex})\n",
    "reviews = [result.text for result in results]"
   ]
  },
  {
   "cell_type": "code",
   "execution_count": 105,
   "id": "14a8abc2-19a0-4ecb-ab97-341ab7c70473",
   "metadata": {},
   "outputs": [
    {
     "data": {
      "text/plain": [
       "<p class=\"audience-reviews__review js-review-text\" data-qa=\"review-text\" slot=\"content\">\n",
       "                      This movie is an absolute masterpiece and one of my all-time favorites. Its gripping storyline, fantastic performances by the cast, and stunning cinematography make it a must-watch for anyone who enjoys great cinema. If you haven't seen it yet, I highly recommend that you do so as soon as possible.\n",
       "                  </p>"
      ]
     },
     "execution_count": 105,
     "metadata": {},
     "output_type": "execute_result"
    }
   ],
   "source": [
    "results[0]"
   ]
  },
  {
   "cell_type": "code",
   "execution_count": 106,
   "id": "57cc295d-f2a7-4ef2-a2e6-b7185fb0e61c",
   "metadata": {},
   "outputs": [],
   "source": [
    "df = pd.DataFrame(np.array(reviews), columns=['review'])"
   ]
  },
  {
   "cell_type": "code",
   "execution_count": 107,
   "id": "32a31846-a59a-4578-a83e-0238e6e6e5fe",
   "metadata": {},
   "outputs": [
    {
     "data": {
      "text/plain": [
       "\"\\n                      This movie is an absolute masterpiece and one of my all-time favorites. Its gripping storyline, fantastic performances by the cast, and stunning cinematography make it a must-watch for anyone who enjoys great cinema. If you haven't seen it yet, I highly recommend that you do so as soon as possible.\\n                  \""
      ]
     },
     "execution_count": 107,
     "metadata": {},
     "output_type": "execute_result"
    }
   ],
   "source": [
    "df['review'].iloc[0]"
   ]
  },
  {
   "cell_type": "code",
   "execution_count": 108,
   "id": "a1de5194-389d-4643-b07a-c0762d864a55",
   "metadata": {},
   "outputs": [],
   "source": [
    "def sentiment_score(review):\n",
    "    tokens = tokenizer.encode(review, return_tensors='pt')\n",
    "    result = model(tokens)\n",
    "    return int(torch.argmax(result.logits))+1"
   ]
  },
  {
   "cell_type": "code",
   "execution_count": 109,
   "id": "8f7242fc-a200-4ed3-8a07-f1613b45129f",
   "metadata": {},
   "outputs": [
    {
     "data": {
      "text/plain": [
       "5"
      ]
     },
     "execution_count": 109,
     "metadata": {},
     "output_type": "execute_result"
    }
   ],
   "source": [
    "sentiment_score(df['review'].iloc[0])"
   ]
  },
  {
   "cell_type": "code",
   "execution_count": 110,
   "id": "41deefff-661c-49b7-80f3-e2a8f2544135",
   "metadata": {},
   "outputs": [],
   "source": [
    "df['sentiment'] = df['review'].apply(lambda x: sentiment_score(x[:512]))"
   ]
  },
  {
   "cell_type": "code",
   "execution_count": 111,
   "id": "b45418d1-e733-4b76-93f2-b22ead772882",
   "metadata": {},
   "outputs": [
    {
     "data": {
      "text/html": [
       "<div>\n",
       "<style scoped>\n",
       "    .dataframe tbody tr th:only-of-type {\n",
       "        vertical-align: middle;\n",
       "    }\n",
       "\n",
       "    .dataframe tbody tr th {\n",
       "        vertical-align: top;\n",
       "    }\n",
       "\n",
       "    .dataframe thead th {\n",
       "        text-align: right;\n",
       "    }\n",
       "</style>\n",
       "<table border=\"1\" class=\"dataframe\">\n",
       "  <thead>\n",
       "    <tr style=\"text-align: right;\">\n",
       "      <th></th>\n",
       "      <th>review</th>\n",
       "      <th>sentiment</th>\n",
       "    </tr>\n",
       "  </thead>\n",
       "  <tbody>\n",
       "    <tr>\n",
       "      <th>0</th>\n",
       "      <td>\\n                      This movie is an absol...</td>\n",
       "      <td>5</td>\n",
       "    </tr>\n",
       "    <tr>\n",
       "      <th>1</th>\n",
       "      <td>\\n                      What was the point of ...</td>\n",
       "      <td>1</td>\n",
       "    </tr>\n",
       "    <tr>\n",
       "      <th>2</th>\n",
       "      <td>\\n                      The Wolf of Wall Stree...</td>\n",
       "      <td>5</td>\n",
       "    </tr>\n",
       "    <tr>\n",
       "      <th>3</th>\n",
       "      <td>\\n                      I really liked this fi...</td>\n",
       "      <td>4</td>\n",
       "    </tr>\n",
       "    <tr>\n",
       "      <th>4</th>\n",
       "      <td>\\n                      A classic rise and fal...</td>\n",
       "      <td>5</td>\n",
       "    </tr>\n",
       "    <tr>\n",
       "      <th>5</th>\n",
       "      <td>\\n                      What an interesting Mo...</td>\n",
       "      <td>4</td>\n",
       "    </tr>\n",
       "    <tr>\n",
       "      <th>6</th>\n",
       "      <td>\\n                      Incredible film that i...</td>\n",
       "      <td>5</td>\n",
       "    </tr>\n",
       "    <tr>\n",
       "      <th>7</th>\n",
       "      <td>\\n                      Absolute Must See! Leo...</td>\n",
       "      <td>5</td>\n",
       "    </tr>\n",
       "    <tr>\n",
       "      <th>8</th>\n",
       "      <td>\\n                      I studied econ in uni ...</td>\n",
       "      <td>2</td>\n",
       "    </tr>\n",
       "    <tr>\n",
       "      <th>9</th>\n",
       "      <td>\\n                      Biggest thing about it...</td>\n",
       "      <td>3</td>\n",
       "    </tr>\n",
       "    <tr>\n",
       "      <th>10</th>\n",
       "      <td>\\n                      If your goal is to und...</td>\n",
       "      <td>4</td>\n",
       "    </tr>\n",
       "    <tr>\n",
       "      <th>11</th>\n",
       "      <td>\\n                      too long but interesti...</td>\n",
       "      <td>3</td>\n",
       "    </tr>\n",
       "    <tr>\n",
       "      <th>12</th>\n",
       "      <td>\\n                      This movie was by far ...</td>\n",
       "      <td>1</td>\n",
       "    </tr>\n",
       "    <tr>\n",
       "      <th>13</th>\n",
       "      <td>\\n                      What a film! Masterpie...</td>\n",
       "      <td>5</td>\n",
       "    </tr>\n",
       "    <tr>\n",
       "      <th>14</th>\n",
       "      <td>\\n                      As a retired financial...</td>\n",
       "      <td>1</td>\n",
       "    </tr>\n",
       "    <tr>\n",
       "      <th>15</th>\n",
       "      <td>\\n                      Love love love this fi...</td>\n",
       "      <td>5</td>\n",
       "    </tr>\n",
       "    <tr>\n",
       "      <th>16</th>\n",
       "      <td>\\n                      A sickening film. I ha...</td>\n",
       "      <td>1</td>\n",
       "    </tr>\n",
       "    <tr>\n",
       "      <th>17</th>\n",
       "      <td>\\n                      Very funny with a grea...</td>\n",
       "      <td>5</td>\n",
       "    </tr>\n",
       "    <tr>\n",
       "      <th>18</th>\n",
       "      <td>\\n                      It was good, not perfe...</td>\n",
       "      <td>3</td>\n",
       "    </tr>\n",
       "    <tr>\n",
       "      <th>19</th>\n",
       "      <td>\\n                      One wild ride of a mov...</td>\n",
       "      <td>1</td>\n",
       "    </tr>\n",
       "  </tbody>\n",
       "</table>\n",
       "</div>"
      ],
      "text/plain": [
       "                                               review  sentiment\n",
       "0   \\n                      This movie is an absol...          5\n",
       "1   \\n                      What was the point of ...          1\n",
       "2   \\n                      The Wolf of Wall Stree...          5\n",
       "3   \\n                      I really liked this fi...          4\n",
       "4   \\n                      A classic rise and fal...          5\n",
       "5   \\n                      What an interesting Mo...          4\n",
       "6   \\n                      Incredible film that i...          5\n",
       "7   \\n                      Absolute Must See! Leo...          5\n",
       "8   \\n                      I studied econ in uni ...          2\n",
       "9   \\n                      Biggest thing about it...          3\n",
       "10  \\n                      If your goal is to und...          4\n",
       "11  \\n                      too long but interesti...          3\n",
       "12  \\n                      This movie was by far ...          1\n",
       "13  \\n                      What a film! Masterpie...          5\n",
       "14  \\n                      As a retired financial...          1\n",
       "15  \\n                      Love love love this fi...          5\n",
       "16  \\n                      A sickening film. I ha...          1\n",
       "17  \\n                      Very funny with a grea...          5\n",
       "18  \\n                      It was good, not perfe...          3\n",
       "19  \\n                      One wild ride of a mov...          1"
      ]
     },
     "execution_count": 111,
     "metadata": {},
     "output_type": "execute_result"
    }
   ],
   "source": [
    "df"
   ]
  },
  {
   "cell_type": "code",
   "execution_count": 112,
   "id": "f5988a41-0f5d-4b17-9ed0-0945865c836e",
   "metadata": {},
   "outputs": [
    {
     "name": "stdout",
     "output_type": "stream",
     "text": [
      "Average Sentiment: 3.4\n",
      "Median Sentiment: 4.0\n"
     ]
    }
   ],
   "source": [
    "average_sentiment = df['sentiment'].mean()\n",
    "median_sentiment = df['sentiment'].median()\n",
    "\n",
    "print(f'Average Sentiment: {average_sentiment}')\n",
    "print(f'Median Sentiment: {median_sentiment}')"
   ]
  }
 ],
 "metadata": {
  "kernelspec": {
   "display_name": "Python 3 (ipykernel)",
   "language": "python",
   "name": "python3"
  },
  "language_info": {
   "codemirror_mode": {
    "name": "ipython",
    "version": 3
   },
   "file_extension": ".py",
   "mimetype": "text/x-python",
   "name": "python",
   "nbconvert_exporter": "python",
   "pygments_lexer": "ipython3",
   "version": "3.11.7"
  }
 },
 "nbformat": 4,
 "nbformat_minor": 5
}
